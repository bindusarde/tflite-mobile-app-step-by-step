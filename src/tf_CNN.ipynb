{
 "cells": [
  {
   "cell_type": "code",
   "execution_count": 1,
   "metadata": {
    "colab": {},
    "colab_type": "code",
    "id": "3wmHXH0XbQVf"
   },
   "outputs": [],
   "source": [
    "import os\n",
    "import os.path as path\n",
    "\n",
    "import tensorflow as tf\n",
    "import matplotlib.pyplot as plt\n",
    "import numpy as np\n",
    "from tensorflow.python.tools import freeze_graph\n",
    "from tensorflow.python.tools import optimize_for_inference_lib"
   ]
  },
  {
   "cell_type": "code",
   "execution_count": 2,
   "metadata": {
    "colab": {},
    "colab_type": "code",
    "id": "upDUtuq9gwJJ"
   },
   "outputs": [],
   "source": [
    "MODEL_NAME = 'CIFAR10_Convnet'\n",
    "Saved_Model_Path = \"../checkpoints/\"\n",
    "tensorboard_log_path = \"../tensorboard/\"\n",
    "\n",
    "# Input_node_names = \"Input_data/Reshape\"  '''For reference'''\n",
    "# Output_node_name = \"Output/Softmax\"\n",
    "\n",
    "output_size = 10"
   ]
  },
  {
   "cell_type": "code",
   "execution_count": 3,
   "metadata": {
    "colab": {},
    "colab_type": "code",
    "id": "Jd_xNYLIg4eD"
   },
   "outputs": [],
   "source": [
    "#todo: add the code for final softmax layer and return as output\n",
    "class Model_CNN:\n",
    "  \n",
    "#We'll incorporate batch norm later\n",
    "\n",
    "#def batch_norm(x):\n",
    "#  return tf.nn.batch_normalization()  \n",
    "  \n",
    "  def __init__(self, x_in, y_in):\n",
    "    self.n_class = 10\n",
    "    self._create_architecture(x_in, y_in)\n",
    "    \n",
    "  def _create_architecture(self, x_in, y_in):\n",
    "    self.prediction, self.out_prob = self._CNN_fw_pass(x_in)\n",
    "    self.cost = tf.reduce_mean(tf.nn.sparse_softmax_cross_entropy_with_logits(logits = self.prediction, labels = tf.argmax(y_in,1) ))\n",
    "    self.optimizer = tf.train.AdamOptimizer(learning_rate=0.001).minimize(self.cost)\n",
    "    \n",
    "    \n",
    "    correct = tf.equal(tf.argmax(self.prediction,1), tf.argmax(y_in,1))\n",
    "    self.accuracy = tf.reduce_mean(tf.cast(correct,tf.float64))\n",
    " #   prediction = tf.cast(prediction,tf.float32)\n",
    " #   self.accuracy = tf.nn.in_top_k(prediction, y_in, 1)\n",
    "    tf.summary.scalar(\"loss\", self.cost)\n",
    "    tf.summary.scalar(\"accuracy\", self.accuracy)\n",
    "    self.merged_summary = tf.summary.merge_all()\n",
    "    \n",
    "  \n",
    "  def _CNN_fw_pass(self, input_data):\n",
    "    \n",
    "    weights = {  \"conv1_weight\": tf.Variable(tf.cast(tf.truncated_normal([3,3,3,32], stddev=0.08 ),dtype=tf.float32)),\n",
    "                    \"conv2_weight\": tf.Variable(tf.cast(tf.truncated_normal([3,3,32,64], stddev=0.08 ),dtype=tf.float32)),\n",
    "                    \"conv3_weight\": tf.Variable(tf.cast(tf.truncated_normal([3,3,64,128], stddev=0.08 ),dtype=tf.float32)),\n",
    "                    \"fc1_weight\": tf.Variable(tf.cast(tf.truncated_normal([4*4*128,1024], stddev=0.08 ),dtype=tf.float32)),\n",
    "                    \"fc2_weight\": tf.Variable(tf.cast(tf.truncated_normal([1024,128], stddev=0.08 ),dtype=tf.float32)),\n",
    "                    \"output_weight\": tf.Variable(tf.cast(tf.truncated_normal([128,output_size], stddev=0.08 ),dtype=tf.float32))\n",
    "                 }\n",
    "    \n",
    "    bias = {     \"conv1_bias\": tf.Variable(tf.cast(tf.zeros([32]),dtype=tf.float32)),\n",
    "                \"conv2_bias\": tf.Variable(tf.cast(tf.zeros([64]),dtype=tf.float32)),\n",
    "                \"conv3_bias\": tf.Variable(tf.cast(tf.zeros([128]),dtype=tf.float32)),\n",
    "                \"fc1_bias\": tf.Variable(tf.cast(tf.zeros([1024]),dtype=tf.float32)),\n",
    "                \"fc2_bias\": tf.Variable(tf.cast(tf.zeros([128]),dtype=tf.float32)),\n",
    "                \"output_bias\": tf.Variable(tf.cast(tf.zeros([output_size]),dtype=tf.float32))\n",
    "          }\n",
    "       \n",
    "    \n",
    "    #  input_data = data.reshape()\n",
    "    with tf.name_scope(\"Input_data\"):\n",
    "#       print(\"input_data.shape = \"+str(input_data.shape))\n",
    "      data_in = tf.reshape(input_data, [-1, 32,32,3])\n",
    "#       print(\"data_in.shape = \"+str(data_in.shape))\n",
    "    \n",
    "    with tf.name_scope(\"Convolution_1\"):\n",
    "      conv1 = self.conv_2d(data_in, weights[\"conv1_weight\"])\n",
    "  #    conv1 = tf.layers.BatchNormalization(conv1, axis=-1)\n",
    "      conv1 = tf.add(conv1, bias[\"conv1_bias\"])\n",
    "      activated1 = self.activation(conv1, \"relu\")\n",
    "\n",
    "    with tf.name_scope(\"MaxPool_1\"):\n",
    "      maxpool1 = self.maxpool_2d(activated1)\n",
    "\n",
    "    with tf.name_scope(\"Convolution_2\"):\n",
    "      conv2 = self.conv_2d(maxpool1, weights[\"conv2_weight\"])\n",
    "  #    conv2 = tf.layers.BatchNormalization(conv2, axis=-1)\n",
    "      conv2 = tf.add(conv2, bias[\"conv2_bias\"])\n",
    "      activated2 = self.activation(conv2, \"relu\")\n",
    "\n",
    "    with tf.name_scope(\"MaxPool_2\"):\n",
    "      maxpool2 = self.maxpool_2d(activated2)\n",
    "\n",
    "    with tf.name_scope(\"Convolution_3\"):\n",
    "      conv3 = self.conv_2d(maxpool2, weights[\"conv3_weight\"])\n",
    "  #    conv3 = tf.layers.BatchNormalization(conv3, axis=-1)\n",
    "      conv3 = tf.add(conv3, bias[\"conv3_bias\"])\n",
    "      activated3 = self.activation(conv3, \"relu\")\n",
    "      \n",
    "    with tf.name_scope(\"MaxPool_3\"):\n",
    "      maxpool3 = self.maxpool_2d(activated3)\n",
    "\n",
    "    with tf.name_scope(\"Fully_connected_1\"):\n",
    "      fc1 = tf.reshape(maxpool3, [-1, 4*4*128 ])\n",
    "      fc1 = tf.add(tf.matmul(fc1, weights[\"fc1_weight\"]),  bias[\"fc1_bias\"])\n",
    "      activated4 = self.activation(fc1, \"relu\")\n",
    "\n",
    "    with tf.name_scope(\"Fully_connected_2\"):\n",
    "      fc2 = tf.add(tf.matmul(activated4, weights[\"fc2_weight\"]),  bias[\"fc2_bias\"])\n",
    "      activated5 = self.activation(fc2, \"relu\")\n",
    "     \n",
    "    with tf.name_scope(\"Output\"):\n",
    "      out  = tf.add(tf.matmul(activated5, weights[\"output_weight\"]),  bias[\"output_bias\"])\n",
    "      out_prob = tf.nn.softmax(out, axis = -1)\n",
    "      out_class_pred = tf.argmax(out_prob, 1)\n",
    "\n",
    "    return out, out_prob\n",
    "  \n",
    "  #helpers\n",
    "  def conv_2d(self,x, w):\n",
    "    return tf.nn.conv2d(x, w, padding=\"SAME\",strides=[1,1,1,1])\n",
    "\n",
    "  def maxpool_2d(self,x):\n",
    "    return tf.nn.max_pool(x, [1,2,2,1], [1,2,2,1], padding = \"SAME\")\n",
    "\n",
    "  def activation(self,x, activation_fn):\n",
    "    if(activation_fn == \"relu\"):\n",
    "      return tf.nn.relu(x)\n",
    "    elif(activation_fn == \"sigmoid\"):\n",
    "      return tf.nn.sigmoid(x)\n",
    "    elif(activation_fn == \"tanh\"):\n",
    "      return tf.nn.tanh(x)\n",
    "    else:\n",
    "      return tf.nn.sigmoid(x)"
   ]
  },
  {
   "cell_type": "code",
   "execution_count": 4,
   "metadata": {
    "colab": {
     "base_uri": "https://localhost:8080/",
     "height": 286
    },
    "colab_type": "code",
    "executionInfo": {
     "elapsed": 13898,
     "status": "ok",
     "timestamp": 1556709902801,
     "user": {
      "displayName": "Bindusar De",
      "photoUrl": "https://lh6.googleusercontent.com/-ankscozAQrw/AAAAAAAAAAI/AAAAAAAAAEg/K27HLDH44fc/s64/photo.jpg",
      "userId": "09892540384777124014"
     },
     "user_tz": -330
    },
    "id": "JHcwP3wXZ9F7",
    "outputId": "927ed32f-940a-4b10-88e6-1c8afbd4cfad"
   },
   "outputs": [
    {
     "name": "stdout",
     "output_type": "stream",
     "text": [
      "[7]\n"
     ]
    },
    {
     "data": {
      "image/png": "[encoded data removed]",
      "text/plain": [
       "<Figure size 432x288 with 1 Axes>"
      ]
     },
     "metadata": {
      "needs_background": "light"
     },
     "output_type": "display_data"
    }
   ],
   "source": [
    "# Load and preprocess data here\n",
    "(x_train,y_train),(x_test,y_test) =  tf.keras.datasets.cifar10.load_data()\n",
    "\n",
    "# Uncomment following lines to visualize loaded data\n",
    "\n",
    "# print(\"x_train.shape = \"+str(x_train.shape))\n",
    "# print(\"y_train.shape = \"+str(y_train.shape))\n",
    "# print(\"x_test.shape = \"+str(x_test.shape))\n",
    "# print(\"y_test.shape = \"+str(y_test.shape))\n",
    "\n",
    "index = 2000\n",
    "\n",
    "plt.imshow(x_train[index], interpolation = \"gaussian\")\n",
    "print(str(y_train[index]))\n",
    "\n",
    "#normalize and prep loaded dataset\n",
    "\n",
    "# normalizing x 0-255 pixel values\n",
    "# converting y to one hot vectors/matrices\n",
    "\n",
    "x_train_flatten = x_train/255\n",
    "x_test_flatten = x_test/255\n",
    "tf.cast(x_train_flatten, tf.float32)\n",
    "tf.cast(x_test_flatten, tf.float32)\n",
    "y_train_categorical = tf.keras.utils.to_categorical(y_train, num_classes=10)\n",
    "y_test_categorical = tf.keras.utils.to_categorical(y_test, num_classes=10)\n",
    "\n",
    "rmean,gmean,bmean = np.mean(x_train_flatten[:,:,:,0]),  np.mean(x_train_flatten[:,:,:,1]),  np.mean(x_train_flatten[:,:,:,2])\n",
    "rstd, gstd, bstd = np.std(x_train_flatten[:,:,:,0]), np.std(x_train_flatten[:,:,:,1]), np.std(x_train_flatten[:,:,:,2])\n",
    "\n",
    "mean = {\"rmean\":rmean,\"gmean\":gmean,\"bmean\":bmean}\n",
    "stdev = {\"rstd\":rstd, \"gstd\":gstd, \"bstd\":bstd}   \n",
    "\n",
    "x_train_norm = x_train_flatten\n",
    "x_test_norm = x_test_flatten\n",
    "\n",
    "x_train_norm[:,:,:,0] -= mean[\"rmean\"]\n",
    "x_train_norm[:,:,:,1] -= mean[\"gmean\"]\n",
    "x_train_norm[:,:,:,2] -= mean[\"bmean\"]\n",
    "\n",
    "x_train_norm[:,:,:,0] /= stdev[\"rstd\"]\n",
    "x_train_norm[:,:,:,1] /= stdev[\"gstd\"]\n",
    "x_train_norm[:,:,:,2] /= stdev[\"bstd\"]"
   ]
  },
  {
   "cell_type": "code",
   "execution_count": 8,
   "metadata": {
    "colab": {},
    "colab_type": "code",
    "id": "F7H_zKA5vv64"
   },
   "outputs": [],
   "source": [
    "def train_and_save_model():\n",
    "\n",
    "  tf.reset_default_graph()\n",
    "\n",
    "  x = tf.placeholder(tf.float32, shape=[None, 32,32,3], name = \"x\")\n",
    "  y = tf.placeholder(tf.float32, shape=[None, 10], name = \"y\")\n",
    "\n",
    "#  Place hyperparams here\n",
    "\n",
    "  output_size = 10\n",
    "  batch_size = 256\n",
    "  num_epochs = 20\n",
    "  \n",
    "  writer = tf.summary.FileWriter(tensorboard_log_path)\n",
    "\n",
    "\n",
    "  dataset = tf.data.Dataset.from_tensor_slices((x, y)) \n",
    "  dataset = dataset.batch(batch_size)\n",
    "  iterator = dataset.make_initializable_iterator()\n",
    "\n",
    "\n",
    "  data_x, data_y = iterator.get_next()\n",
    "  model = Model_CNN(data_x, data_y)\n",
    "\n",
    "  with tf.Session() as sess:\n",
    "\n",
    "\n",
    "    sess.run(tf.global_variables_initializer())\n",
    "    \n",
    "    saver = tf.train.Saver(tf.global_variables())\n",
    "    \n",
    "    writer.add_graph(sess.graph)\n",
    "\n",
    "    tf.train.write_graph(sess.graph_def, Saved_Model_Path, MODEL_NAME + '.pbtxt', True)\n",
    "      \n",
    "    \n",
    "    train_count = 0\n",
    "    for epoch_no in range(num_epochs):\n",
    "      train_loss, train_accuracy = 0, 0\n",
    "      test_loss, test_accuracy = 0, 0\n",
    "\n",
    "      sess.run(iterator.initializer, feed_dict = {x: x_train_norm, y: y_train_categorical})\n",
    "\n",
    "      try:\n",
    "          while True:\n",
    "\n",
    "            pred,_, loss, acc, summary = sess.run([model.prediction, model.optimizer, model.cost, model.accuracy, model.merged_summary])\n",
    "            # print(pred)\n",
    "            train_count+=1\n",
    "            train_loss +=loss\n",
    "            train_accuracy += acc\n",
    "\n",
    "            if train_count % 5 == 0:\n",
    "              writer.add_summary(summary, train_count)\n",
    "\n",
    "      except tf.errors.OutOfRangeError:\n",
    "        pass\n",
    "\n",
    "      print('\\nEpoch No: {}'.format(epoch_no + 1))\n",
    "      print('Train accuracy = {:.4f}, loss = {:.4f}'.format((train_accuracy / (len(y_train_categorical)/batch_size)), train_loss / (len(y_train_categorical)/batch_size)))\n",
    "    saver.save(sess, Saved_Model_Path+MODEL_NAME+\".chkp\")"
   ]
  },
  {
   "cell_type": "code",
   "execution_count": 9,
   "metadata": {
    "colab": {},
    "colab_type": "code",
    "id": "-zMsks0sqWIb"
   },
   "outputs": [],
   "source": [
    "def export_model(input_node_names, output_node_name):\n",
    "  \n",
    "  # freeze_graph.freeze_graph(input_graph_path, input_saver_def_path,\n",
    "  #                           input_binary, checkpoint_path, output_node_names,\n",
    "  #                           restore_op_name, filename_tensor_name,\n",
    "  #                           output_frozen_graph_name, clear_devices, \"\")\n",
    "  \n",
    "  freeze_graph.freeze_graph(Saved_Model_Path+MODEL_NAME+\".pbtxt\", None, False, Saved_Model_Path+MODEL_NAME+\".chkp\", output_node_name, \"save/restore_all\", \"save/Const:0\",\n",
    "                            Saved_Model_Path+\"frozen_\"+MODEL_NAME+\".pb\", True, \"\" )"
   ]
  },
  {
   "cell_type": "code",
   "execution_count": 10,
   "metadata": {
    "colab": {
     "base_uri": "https://localhost:8080/",
     "height": 714
    },
    "colab_type": "code",
    "id": "NvDtfYbI_cFL",
    "outputId": "1fbd7e96-cbd5-4d4f-c88d-5edec91b0644"
   },
   "outputs": [
    {
     "name": "stdout",
     "output_type": "stream",
     "text": [
      "\n",
      "Epoch No: 1\n",
      "Train accuracy = 0.4808, loss = 1.4728\n",
      "\n",
      "Epoch No: 2\n",
      "Train accuracy = 0.6551, loss = 0.9946\n",
      "\n",
      "Epoch No: 3\n",
      "Train accuracy = 0.7228, loss = 0.8053\n",
      "\n",
      "Epoch No: 4\n",
      "Train accuracy = 0.7698, loss = 0.6721\n",
      "\n",
      "Epoch No: 5\n",
      "Train accuracy = 0.8103, loss = 0.5579\n",
      "\n",
      "Epoch No: 6\n",
      "Train accuracy = 0.8405, loss = 0.4677\n",
      "\n",
      "Epoch No: 7\n",
      "Train accuracy = 0.8658, loss = 0.3947\n",
      "\n",
      "Epoch No: 8\n",
      "Train accuracy = 0.8873, loss = 0.3323\n",
      "\n",
      "Epoch No: 9\n",
      "Train accuracy = 0.9119, loss = 0.2596\n",
      "\n",
      "Epoch No: 10\n",
      "Train accuracy = 0.9308, loss = 0.2069\n",
      "\n",
      "Epoch No: 11\n",
      "Train accuracy = 0.9423, loss = 0.1757\n",
      "\n",
      "Epoch No: 12\n",
      "Train accuracy = 0.9574, loss = 0.1324\n",
      "\n",
      "Epoch No: 13\n",
      "Train accuracy = 0.9685, loss = 0.1033\n",
      "\n",
      "Epoch No: 14\n",
      "Train accuracy = 0.9808, loss = 0.0703\n",
      "\n",
      "Epoch No: 15\n",
      "Train accuracy = 0.9868, loss = 0.0503\n",
      "\n",
      "Epoch No: 16\n",
      "Train accuracy = 0.9892, loss = 0.0440\n",
      "\n",
      "Epoch No: 17\n",
      "Train accuracy = 0.9913, loss = 0.0367\n",
      "\n",
      "Epoch No: 18\n",
      "Train accuracy = 0.9922, loss = 0.0340\n",
      "\n",
      "Epoch No: 19\n",
      "Train accuracy = 0.9912, loss = 0.0372\n",
      "\n",
      "Epoch No: 20\n",
      "Train accuracy = 0.9921, loss = 0.0347\n"
     ]
    }
   ],
   "source": [
    "train_and_save_model()\n"
   ]
  },
  {
   "cell_type": "code",
   "execution_count": 24,
   "metadata": {
    "colab": {},
    "colab_type": "code",
    "id": "_bhJzdd2_eIS"
   },
   "outputs": [
    {
     "name": "stdout",
     "output_type": "stream",
     "text": [
      "INFO:tensorflow:Restoring parameters from ./checkpoints/CIFAR10_Convnet.chkp\n",
      "INFO:tensorflow:Froze 12 variables.\n",
      "Converted 12 variables to const ops.\n"
     ]
    },
    {
     "ename": "AttributeError",
     "evalue": "module 'tensorflow' has no attribute 'Graphdef'",
     "output_type": "error",
     "traceback": [
      "\u001b[0;31m---------------------------------------------------------------------------\u001b[0m",
      "\u001b[0;31mAttributeError\u001b[0m                            Traceback (most recent call last)",
      "\u001b[0;32m<ipython-input-24-ec76aa2aeda8>\u001b[0m in \u001b[0;36m<module>\u001b[0;34m\u001b[0m\n\u001b[0;32m----> 1\u001b[0;31m \u001b[0mexport_model\u001b[0m\u001b[0;34m(\u001b[0m\u001b[0;34m\"x\"\u001b[0m\u001b[0;34m,\u001b[0m \u001b[0;34m\"Output/Softmax\"\u001b[0m\u001b[0;34m)\u001b[0m\u001b[0;34m\u001b[0m\u001b[0;34m\u001b[0m\u001b[0m\n\u001b[0m",
      "\u001b[0;32m<ipython-input-9-d65ab45e9626>\u001b[0m in \u001b[0;36mexport_model\u001b[0;34m(input_node_names, output_node_name)\u001b[0m\n\u001b[1;32m      8\u001b[0m   freeze_graph.freeze_graph(Saved_Model_Path+MODEL_NAME+\".pbtxt\", None, False, Saved_Model_Path+MODEL_NAME+\".chkp\", output_node_name, \"save/restore_all\", \"save/Const:0\",\n\u001b[1;32m      9\u001b[0m                             Saved_Model_Path+\"frozen_\"+MODEL_NAME+\".pb\", True, \"\" )\n\u001b[0;32m---> 10\u001b[0;31m   \u001b[0minput_graph_def\u001b[0m \u001b[0;34m=\u001b[0m \u001b[0mtf\u001b[0m\u001b[0;34m.\u001b[0m\u001b[0mGraphdef\u001b[0m\u001b[0;34m(\u001b[0m\u001b[0;34m)\u001b[0m\u001b[0;34m\u001b[0m\u001b[0;34m\u001b[0m\u001b[0m\n\u001b[0m\u001b[1;32m     11\u001b[0m \u001b[0;34m\u001b[0m\u001b[0m\n\u001b[1;32m     12\u001b[0m   \u001b[0;32mwith\u001b[0m \u001b[0mtf\u001b[0m\u001b[0;34m.\u001b[0m\u001b[0mgfile\u001b[0m\u001b[0;34m.\u001b[0m\u001b[0mOpen\u001b[0m\u001b[0;34m(\u001b[0m\u001b[0mSaved_Model_Path\u001b[0m\u001b[0;34m+\u001b[0m\u001b[0;34m\"frozen_\"\u001b[0m\u001b[0;34m+\u001b[0m\u001b[0mMODEL_NAME\u001b[0m\u001b[0;34m+\u001b[0m\u001b[0;34m\".pb\"\u001b[0m\u001b[0;34m,\u001b[0m \u001b[0;34m\"rb\"\u001b[0m\u001b[0;34m)\u001b[0m \u001b[0;32mas\u001b[0m \u001b[0mf\u001b[0m\u001b[0;34m:\u001b[0m\u001b[0;34m\u001b[0m\u001b[0;34m\u001b[0m\u001b[0m\n",
      "\u001b[0;31mAttributeError\u001b[0m: module 'tensorflow' has no attribute 'Graphdef'"
     ]
    }
   ],
   "source": [
    "export_model(\"x\", \"Output/Softmax\")"
   ]
  },
  {
   "cell_type": "code",
   "execution_count": 22,
   "metadata": {},
   "outputs": [
    {
     "ename": "SyntaxError",
     "evalue": "invalid syntax (<ipython-input-22-40dd8d4ce487>, line 3)",
     "output_type": "error",
     "traceback": [
      "\u001b[0;36m  File \u001b[0;32m\"<ipython-input-22-40dd8d4ce487>\"\u001b[0;36m, line \u001b[0;32m3\u001b[0m\n\u001b[0;31m    --graph_def_file=/home/bindusar/Documents/Notebooks/CIFAR/prod/src/checkpoints/frozen_CIFAR10_Convnet.pb \\\u001b[0m\n\u001b[0m                     ^\u001b[0m\n\u001b[0;31mSyntaxError\u001b[0m\u001b[0;31m:\u001b[0m invalid syntax\n"
     ]
    }
   ],
   "source": [
    "!IMAGE_SIZE=32\n",
    "tflite_convert \\\n",
    "  --graph_def_file=/home/bindusar/Documents/Notebooks/CIFAR/prod/src/checkpoints/frozen_CIFAR10_Convnet.pb \\\n",
    "  --output_file=/home/bindusar/Documents/Notebooks/CIFAR/prod/src/output/CIFAR10_Convnet.tflite \\\n",
    "  --input_format=TENSORFLOW_GRAPHDEF \\\n",
    "  --output_format=TFLITE \\\n",
    "  --input_shape=1,${IMAGE_SIZE},${IMAGE_SIZE},3 \\\n",
    "  --input_array=Input_data/Reshape \\\n",
    "  --output_array=Output/Softmax \\\n",
    "  --inference_type=FLOAT \\\n",
    "  --input_data_type=FLOAT"
   ]
  },
  {
   "cell_type": "code",
   "execution_count": 23,
   "metadata": {},
   "outputs": [
    {
     "name": "stdout",
     "output_type": "stream",
     "text": [
      "Iterator\n",
      "IteratorGetNext\n",
      "Variable\n",
      "Variable/read\n",
      "Variable_1\n",
      "Variable_1/read\n",
      "Variable_2\n",
      "Variable_2/read\n",
      "Variable_3\n",
      "Variable_3/read\n",
      "Variable_4\n",
      "Variable_4/read\n",
      "Variable_5\n",
      "Variable_5/read\n",
      "Variable_6\n",
      "Variable_6/read\n",
      "Variable_7\n",
      "Variable_7/read\n",
      "Variable_8\n",
      "Variable_8/read\n",
      "Variable_9\n",
      "Variable_9/read\n",
      "Variable_10\n",
      "Variable_10/read\n",
      "Variable_11\n",
      "Variable_11/read\n",
      "Input_data/Reshape/shape\n",
      "Input_data/Reshape\n",
      "Convolution_1/Conv2D\n",
      "Convolution_1/Add\n",
      "Convolution_1/Relu\n",
      "MaxPool_1/MaxPool\n",
      "Convolution_2/Conv2D\n",
      "Convolution_2/Add\n",
      "Convolution_2/Relu\n",
      "MaxPool_2/MaxPool\n",
      "Convolution_3/Conv2D\n",
      "Convolution_3/Add\n",
      "Convolution_3/Relu\n",
      "MaxPool_3/MaxPool\n",
      "Fully_connected_1/Reshape/shape\n",
      "Fully_connected_1/Reshape\n",
      "Fully_connected_1/MatMul\n",
      "Fully_connected_1/Add\n",
      "Fully_connected_1/Relu\n",
      "Fully_connected_2/MatMul\n",
      "Fully_connected_2/Add\n",
      "Fully_connected_2/Relu\n",
      "Output/MatMul\n",
      "Output/Add\n",
      "Output/Softmax\n"
     ]
    }
   ],
   "source": [
    "def load_graph(frozen_graph_filename):\n",
    "    with tf.gfile.GFile(frozen_graph_filename, \"rb\") as f:\n",
    "        graph_def = tf.GraphDef()\n",
    "        graph_def.ParseFromString(f.read())\n",
    "\n",
    "    with tf.Graph().as_default() as graph:\n",
    "        tf.import_graph_def(graph_def, name=\"\")\n",
    "\n",
    "    return graph\n",
    "    \n",
    "graph = load_graph('/home/bindusar/Documents/Notebooks/CIFAR/prod/src/checkpoints/frozen_CIFAR10_Convnet.pb')\n",
    "\n",
    "for op in graph.get_operations():\n",
    "    print(op.name)"
   ]
  },
  {
   "cell_type": "code",
   "execution_count": null,
   "metadata": {},
   "outputs": [],
   "source": []
  }
 ],
 "metadata": {
  "colab": {
   "name": "Untitled0.ipynb",
   "provenance": [],
   "version": "0.3.2"
  },
  "kernelspec": {
   "display_name": "Python 3",
   "language": "python",
   "name": "python3"
  },
  "language_info": {
   "codemirror_mode": {
    "name": "ipython",
    "version": 3
   },
   "file_extension": ".py",
   "mimetype": "text/x-python",
   "name": "python",
   "nbconvert_exporter": "python",
   "pygments_lexer": "ipython3",
   "version": "3.7.1"
  }
 },
 "nbformat": 4,
 "nbformat_minor": 2
}
